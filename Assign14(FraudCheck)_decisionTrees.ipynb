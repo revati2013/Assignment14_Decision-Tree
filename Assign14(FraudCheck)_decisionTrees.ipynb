{
  "cells": [
    {
      "cell_type": "markdown",
      "metadata": {
        "id": "view-in-github",
        "colab_type": "text"
      },
      "source": [
        "<a href=\"https://colab.research.google.com/github/revati2013/Assignment14_Decision-Tree/blob/main/Assign14(FraudCheck)_decisionTrees.ipynb\" target=\"_parent\"><img src=\"https://colab.research.google.com/assets/colab-badge.svg\" alt=\"Open In Colab\"/></a>"
      ]
    },
    {
      "cell_type": "code",
      "execution_count": null,
      "metadata": {
        "id": "bPNfaDjCAmGi"
      },
      "outputs": [],
      "source": [
        "# importing Libraries\n",
        "import pandas as pd\n",
        "import matplotlib.pyplot as plt\n",
        "import numpy as np\n",
        "from sklearn.model_selection import train_test_split\n",
        "from sklearn.tree import  DecisionTreeClassifier\n",
        "from sklearn import tree\n",
        "from sklearn.metrics import classification_report\n",
        "from sklearn import preprocessing\n"
      ]
    },
    {
      "cell_type": "code",
      "execution_count": null,
      "metadata": {
        "id": "ztzrroWSB7sM"
      },
      "outputs": [],
      "source": [
        "data= pd.read_csv(\"Fraud_check.csv\")"
      ]
    },
    {
      "cell_type": "markdown",
      "metadata": {
        "id": "b9CzpAcJJXmM"
      },
      "source": [
        "#EDA & Data Preprocessing"
      ]
    },
    {
      "cell_type": "code",
      "execution_count": null,
      "metadata": {
        "id": "GoLFJnrmCHU9"
      },
      "outputs": [],
      "source": [
        "data.head()"
      ]
    },
    {
      "cell_type": "code",
      "execution_count": null,
      "metadata": {
        "id": "wWuwENVoJdv1"
      },
      "outputs": [],
      "source": [
        "data.info()"
      ]
    },
    {
      "cell_type": "code",
      "execution_count": null,
      "metadata": {
        "id": "A4nsP_mdKFVg"
      },
      "outputs": [],
      "source": [
        "data.columns"
      ]
    },
    {
      "cell_type": "code",
      "execution_count": null,
      "metadata": {
        "id": "UaLZEeuVKKS8"
      },
      "outputs": [],
      "source": [
        "# Renaming columns\n",
        "data = data.rename({'Undergrad':'under_grad', 'Marital.Status':'marital_status', 'Taxable.Income':'taxable_income',\n",
        "                    'City.Population':'city_population', 'Work.Experience':'work_experience', 'Urban':'urban'}, axis = 1)\n",
        "data.head()"
      ]
    },
    {
      "cell_type": "code",
      "execution_count": null,
      "metadata": {
        "id": "zTmEUeUoKO13"
      },
      "outputs": [],
      "source": [
        "data.describe()"
      ]
    },
    {
      "cell_type": "code",
      "execution_count": null,
      "metadata": {
        "id": "PLD4S_g0KU3f"
      },
      "outputs": [],
      "source": [
        "# checking count of categories for categorical columns colums\n",
        "import seaborn as sns\n",
        "\n",
        "sns.countplot(data['under_grad'])\n",
        "plt.show()\n",
        "\n",
        "sns.countplot(data['marital_status'])\n",
        "plt.show()\n",
        "\n",
        "sns.countplot(data['urban'])\n",
        "plt.show()"
      ]
    },
    {
      "cell_type": "code",
      "execution_count": null,
      "metadata": {
        "id": "vJAnYEbQKbVD"
      },
      "outputs": [],
      "source": [
        "# Checking for outliers in numerical data\n",
        "sns.boxplot(data['taxable_income'])\n",
        "plt.show()\n",
        "\n",
        "sns.boxplot(data['city_population'])\n",
        "plt.show()\n",
        "\n",
        "sns.boxplot(data['work_experience'])\n",
        "plt.show()"
      ]
    },
    {
      "cell_type": "code",
      "execution_count": null,
      "metadata": {
        "id": "KD5vSwnmKjqO"
      },
      "outputs": [],
      "source": [
        "# Correlation analysis for data\n",
        "corr = data.corr()\n",
        "#Plot figsize\n",
        "fig, ax = plt.subplots(figsize=(10, 6))\n",
        "#Generate Heat Map, allow annotations and place floats in map\n",
        "sns.heatmap(corr, cmap='magma', annot=True, fmt=\".2f\")\n",
        "#Apply xticks\n",
        "plt.xticks(range(len(corr.columns)), corr.columns);\n",
        "#Apply yticks\n",
        "plt.yticks(range(len(corr.columns)), corr.columns)\n",
        "#show plot\n",
        "plt.show()"
      ]
    },
    {
      "cell_type": "code",
      "execution_count": null,
      "metadata": {
        "id": "Gf7QHbDRKoML"
      },
      "outputs": [],
      "source": [
        "# Converting taxable_income <= 30000 as \"Risky\" and others are \"Good\"\n",
        "data['taxable_category'] = pd.cut(x = data['taxable_income'], bins = [10002,30000,99620], labels = ['Risky', 'Good'])\n",
        "data"
      ]
    },
    {
      "cell_type": "code",
      "execution_count": null,
      "metadata": {
        "id": "XinEDE4MKsto"
      },
      "outputs": [],
      "source": [
        "sns.countplot(data['taxable_category'])"
      ]
    },
    {
      "cell_type": "code",
      "execution_count": null,
      "metadata": {
        "id": "Fn5lQQ2XKw9f"
      },
      "outputs": [],
      "source": [
        "data['taxable_category'].value_counts()"
      ]
    },
    {
      "cell_type": "code",
      "execution_count": null,
      "metadata": {
        "id": "0nhe99gGK5Hh"
      },
      "outputs": [],
      "source": [
        "from sklearn import preprocessing\n",
        "#encoding categorical data\n",
        "label_encoder = preprocessing.LabelEncoder()\n",
        "\n",
        "data['under_grad'] = label_encoder.fit_transform(data['under_grad'])\n",
        "data['marital_status'] = label_encoder.fit_transform(data['marital_status'])\n",
        "data['urban'] = label_encoder.fit_transform(data['urban'])\n",
        "data['taxable_category'] = label_encoder.fit_transform(data['taxable_category'])\n",
        "data.sample(10)"
      ]
    },
    {
      "cell_type": "code",
      "execution_count": null,
      "metadata": {
        "id": "FYus5wZfLFMh"
      },
      "outputs": [],
      "source": [
        "# dropping column taxable_income\n",
        "data1 = data.drop('taxable_income', axis = 1)\n",
        "data1"
      ]
    },
    {
      "cell_type": "code",
      "execution_count": null,
      "metadata": {
        "id": "gQ4X_tGKLJ6s"
      },
      "outputs": [],
      "source": [
        "# Correlation analysis for data11\n",
        "corr = data1.corr()\n",
        "#Plot figsize\n",
        "fig, ax = plt.subplots(figsize=(10, 6))\n",
        "#Generate Heat Map, allow annotations and place floats in map\n",
        "sns.heatmap(corr, cmap='magma', annot=True, fmt=\".2f\")\n",
        "#Apply xticks\n",
        "plt.xticks(range(len(corr.columns)), corr.columns);\n",
        "#Apply yticks\n",
        "plt.yticks(range(len(corr.columns)), corr.columns)\n",
        "#show plot\n",
        "plt.show()"
      ]
    },
    {
      "cell_type": "code",
      "execution_count": null,
      "metadata": {
        "id": "w9-vwOhvLOjN"
      },
      "outputs": [],
      "source": [
        "# Dividing data into independent variables and dependent variable\n",
        "X = data1.drop('taxable_category', axis = 1)\n",
        "y = data1['taxable_category']"
      ]
    },
    {
      "cell_type": "code",
      "execution_count": null,
      "metadata": {
        "id": "coc5O_YdLSnZ"
      },
      "outputs": [],
      "source": [
        "X"
      ]
    },
    {
      "cell_type": "code",
      "execution_count": null,
      "metadata": {
        "id": "X4PEJVH4LUW7"
      },
      "outputs": [],
      "source": [
        "y"
      ]
    },
    {
      "cell_type": "code",
      "execution_count": null,
      "metadata": {
        "id": "Rv2XgIrHLY_r"
      },
      "outputs": [],
      "source": [
        "\n",
        "# Splitting data into training and testing data\n",
        "x_train, x_test, y_train, y_test = train_test_split(X, y, test_size= 0.33, random_state= 42)"
      ]
    },
    {
      "cell_type": "code",
      "execution_count": null,
      "metadata": {
        "id": "rE2Rwn4wLmTS"
      },
      "outputs": [],
      "source": [
        "x_train"
      ]
    },
    {
      "cell_type": "code",
      "execution_count": null,
      "metadata": {
        "id": "RUqZ6qmeLtKj"
      },
      "outputs": [],
      "source": [
        "x_test"
      ]
    },
    {
      "cell_type": "code",
      "execution_count": null,
      "metadata": {
        "id": "YnxKINFMLyMY"
      },
      "outputs": [],
      "source": [
        "y_train"
      ]
    },
    {
      "cell_type": "code",
      "execution_count": null,
      "metadata": {
        "id": "wUkfGSdcL2LD"
      },
      "outputs": [],
      "source": [
        "y_test"
      ]
    },
    {
      "cell_type": "markdown",
      "metadata": {
        "id": "U0PSMUI2L_Tc"
      },
      "source": [
        "#Building model based on C5.0 Algorithm"
      ]
    },
    {
      "cell_type": "code",
      "execution_count": null,
      "metadata": {
        "id": "VyLQu6BZL6qI"
      },
      "outputs": [],
      "source": [
        "model_c5 = DecisionTreeClassifier(criterion = 'entropy', max_depth= 3)\n",
        "model_c5.fit(x_train, y_train)"
      ]
    },
    {
      "cell_type": "code",
      "execution_count": null,
      "metadata": {
        "id": "8ESPUXliMUyp"
      },
      "outputs": [],
      "source": [
        "# Plotting Decision tree\n",
        "tree.plot_tree(model_c5);"
      ]
    },
    {
      "cell_type": "code",
      "execution_count": null,
      "metadata": {
        "id": "0OOld8_5MpRS"
      },
      "outputs": [],
      "source": [
        "data1.columns"
      ]
    },
    {
      "cell_type": "code",
      "execution_count": null,
      "metadata": {
        "id": "AODMDiUvMs3B"
      },
      "outputs": [],
      "source": [
        "fn=['under_grad', 'marital_status', 'city_population', 'work_experience',\n",
        "       'urban', 'taxable_category']\n",
        "cn=['Risky', 'Good']\n",
        "fig, axes = plt.subplots(nrows = 1,ncols = 1,figsize = (4,3), dpi=100)\n",
        "tree.plot_tree(model_c5,\n",
        "               feature_names = fn, \n",
        "               class_names=cn,\n",
        "               filled = True);"
      ]
    },
    {
      "cell_type": "code",
      "source": [
        "# Predicting Data\n",
        "preds = model_c5.predict(x_test)\n",
        "pd.Series(preds).value_counts()"
      ],
      "metadata": {
        "id": "3COGXdNDG6Zw"
      },
      "execution_count": null,
      "outputs": []
    },
    {
      "cell_type": "code",
      "source": [
        "preds"
      ],
      "metadata": {
        "id": "MtjCuHilHECe"
      },
      "execution_count": null,
      "outputs": []
    },
    {
      "cell_type": "code",
      "source": [
        "# Creating cross tables for checking model\n",
        "pd.crosstab(y_test, preds)"
      ],
      "metadata": {
        "id": "7ImOC27yHISD"
      },
      "execution_count": null,
      "outputs": []
    },
    {
      "cell_type": "code",
      "source": [
        "# Checking accuracy of model\n",
        "model_c5.score(x_test, y_test)"
      ],
      "metadata": {
        "id": "nzwFkcKvHLpE"
      },
      "execution_count": null,
      "outputs": []
    },
    {
      "cell_type": "markdown",
      "source": [
        "#Building model based on CART Algorithm"
      ],
      "metadata": {
        "id": "fsynIMX4HSd3"
      }
    },
    {
      "cell_type": "code",
      "source": [
        "model_CART = DecisionTreeClassifier(criterion = 'gini', max_depth= 3)\n",
        "model_CART.fit(x_train, y_train)"
      ],
      "metadata": {
        "id": "Q7HQFdSsHP7p"
      },
      "execution_count": null,
      "outputs": []
    },
    {
      "cell_type": "code",
      "source": [
        "# Plotting Decision tree\n",
        "tree.plot_tree(model_CART);"
      ],
      "metadata": {
        "id": "g2nGdgoMHXyK"
      },
      "execution_count": null,
      "outputs": []
    },
    {
      "cell_type": "code",
      "source": [
        "fn=['under_grad', 'marital_status', 'city_population', 'work_experience',\n",
        "       'urban', 'taxable_category']\n",
        "cn=['Risky', 'Good']\n",
        "fig, axes = plt.subplots(nrows = 1,ncols = 1,figsize = (4,3), dpi=100)\n",
        "tree.plot_tree(model_CART,\n",
        "               feature_names = fn, \n",
        "               class_names=cn,\n",
        "               filled = True);"
      ],
      "metadata": {
        "id": "dkGNILulHcUA"
      },
      "execution_count": null,
      "outputs": []
    },
    {
      "cell_type": "code",
      "source": [
        "# Predicting Data\n",
        "preds = model_CART.predict(x_test)\n",
        "pd.Series(preds).value_counts()"
      ],
      "metadata": {
        "id": "FVpiPR29H8Cb"
      },
      "execution_count": null,
      "outputs": []
    },
    {
      "cell_type": "code",
      "source": [
        "preds"
      ],
      "metadata": {
        "id": "WDiQSlcOIAyy"
      },
      "execution_count": null,
      "outputs": []
    },
    {
      "cell_type": "code",
      "source": [
        "# Creating cross tables for checking model\n",
        "pd.crosstab(y_test, preds)"
      ],
      "metadata": {
        "id": "6JO8sPZqIEdE"
      },
      "execution_count": null,
      "outputs": []
    },
    {
      "cell_type": "code",
      "source": [
        "# Checking accuracy of model\n",
        "model_CART.score(x_test, y_test)"
      ],
      "metadata": {
        "id": "62nCbFWoIH5o"
      },
      "execution_count": null,
      "outputs": []
    },
    {
      "cell_type": "markdown",
      "metadata": {
        "id": "KEfcePh-QHmB"
      },
      "source": [
        "Model is Good."
      ]
    }
  ],
  "metadata": {
    "colab": {
      "collapsed_sections": [],
      "name": "Assign14(FraudCheck)-decisionTrees.ipynb",
      "provenance": [],
      "authorship_tag": "ABX9TyO4G+Sw7TYyvRcHw7JdSsua",
      "include_colab_link": true
    },
    "kernelspec": {
      "display_name": "Python 3",
      "name": "python3"
    },
    "language_info": {
      "name": "python"
    }
  },
  "nbformat": 4,
  "nbformat_minor": 0
}