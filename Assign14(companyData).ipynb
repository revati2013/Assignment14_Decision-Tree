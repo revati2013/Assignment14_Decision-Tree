{
  "nbformat": 4,
  "nbformat_minor": 0,
  "metadata": {
    "colab": {
      "name": "Assign14(companyData).ipynb",
      "provenance": [],
      "collapsed_sections": [],
      "authorship_tag": "ABX9TyOfHD3MgUStmWzz3YhO+zT8",
      "include_colab_link": true
    },
    "kernelspec": {
      "name": "python3",
      "display_name": "Python 3"
    },
    "language_info": {
      "name": "python"
    }
  },
  "cells": [
    {
      "cell_type": "markdown",
      "metadata": {
        "id": "view-in-github",
        "colab_type": "text"
      },
      "source": [
        "<a href=\"https://colab.research.google.com/github/revati2013/Assignment14_Decision-Tree/blob/main/Assign14(companyData).ipynb\" target=\"_parent\"><img src=\"https://colab.research.google.com/assets/colab-badge.svg\" alt=\"Open In Colab\"/></a>"
      ]
    },
    {
      "cell_type": "code",
      "execution_count": null,
      "metadata": {
        "id": "JbtploHxCU34"
      },
      "outputs": [],
      "source": [
        "# importing Libraries\n",
        "import pandas as pd\n",
        "import matplotlib.pyplot as plt\n",
        "import numpy as np\n",
        "from sklearn.model_selection import train_test_split\n",
        "from sklearn.tree import  DecisionTreeClassifier\n",
        "from sklearn import tree\n",
        "from sklearn.metrics import classification_report"
      ]
    },
    {
      "cell_type": "code",
      "source": [
        "data = pd.read_csv('Company_Data.csv')"
      ],
      "metadata": {
        "id": "utTCqZn3CaHX"
      },
      "execution_count": null,
      "outputs": []
    },
    {
      "cell_type": "markdown",
      "source": [
        "#EDA & Data Preprocessing"
      ],
      "metadata": {
        "id": "s8IBJGpFCr97"
      }
    },
    {
      "cell_type": "code",
      "source": [
        "\n",
        "data.head()"
      ],
      "metadata": {
        "id": "GoOrpORqCjrv"
      },
      "execution_count": null,
      "outputs": []
    },
    {
      "cell_type": "code",
      "source": [
        "data.info()"
      ],
      "metadata": {
        "id": "CuCGk3FHCtr2"
      },
      "execution_count": null,
      "outputs": []
    },
    {
      "cell_type": "code",
      "source": [
        "data.describe()"
      ],
      "metadata": {
        "id": "LbBmzGVdCygA"
      },
      "execution_count": null,
      "outputs": []
    },
    {
      "cell_type": "code",
      "source": [
        "# pairplot\n",
        "import seaborn as sns\n",
        "sns.pairplot(data)"
      ],
      "metadata": {
        "id": "FQcc6o_5C2iI"
      },
      "execution_count": null,
      "outputs": []
    },
    {
      "cell_type": "code",
      "source": [
        "# Correlation analysis for data\n",
        "corr = data.corr()\n",
        "#Plot figsize\n",
        "fig, ax = plt.subplots(figsize=(8, 4))\n",
        "#Generate Heat Map, allow annotations and place floats in map\n",
        "sns.heatmap(corr, cmap='magma', annot=True, fmt=\".2f\")\n",
        "#Apply xticks\n",
        "plt.xticks(range(len(corr.columns)), corr.columns);\n",
        "#Apply yticks\n",
        "plt.yticks(range(len(corr.columns)), corr.columns)\n",
        "#show plot\n",
        "plt.show()"
      ],
      "metadata": {
        "id": "P50lTj6cC6Yq"
      },
      "execution_count": null,
      "outputs": []
    },
    {
      "cell_type": "code",
      "source": [
        "# checking count of categories for categorical columns colums\n",
        "sns.countplot(data['ShelveLoc'])\n",
        "plt.show()\n",
        "\n",
        "sns.countplot(data['Urban'])\n",
        "plt.show()\n",
        "\n",
        "sns.countplot(data['US'])\n",
        "plt.show()"
      ],
      "metadata": {
        "id": "F-c2-3a_DNwG"
      },
      "execution_count": null,
      "outputs": []
    },
    {
      "cell_type": "code",
      "source": [
        "# Converting Target variable 'Sales' into categories Low, Medium and High.\n",
        "data['Sales'] = pd.cut(x=data['Sales'],bins=[0, 6, 12, 17], labels=['Low','Medium', 'High'], right = False)\n",
        "data['Sales']"
      ],
      "metadata": {
        "id": "J846PwaYDThj"
      },
      "execution_count": null,
      "outputs": []
    },
    {
      "cell_type": "code",
      "source": [
        "sns.countplot(data['Sales'])"
      ],
      "metadata": {
        "id": "1lG3koMyDYVn"
      },
      "execution_count": null,
      "outputs": []
    },
    {
      "cell_type": "code",
      "source": [
        "data['Sales'].value_counts()"
      ],
      "metadata": {
        "id": "ZGS-sCBSDcjG"
      },
      "execution_count": null,
      "outputs": []
    },
    {
      "cell_type": "code",
      "source": [
        "# Converting other attributes into categories\n",
        "data['CompPrice'] = pd.cut(x=data['CompPrice'],bins=[77, 100, 133, 176], labels=['Low','Medium', 'High'], right = False)\n",
        "\n",
        "data['Income'] = pd.cut(x=data['Income'],bins=[21, 46, 71, 121], labels=['Low','Medium', 'High'], right = False)\n",
        "\n",
        "data['Advertising'] = pd.cut(x=data['Advertising'],bins=[0, 10, 20, 30], labels=['Low','Medium', 'High'], right = False)\n",
        "\n",
        "data['Population'] = pd.cut(x=data['Population'],bins=[10, 170, 340, 510], labels=['Low','Medium', 'High'], right = False)\n",
        "\n",
        "data['Price'] = pd.cut(x=data['Price'],bins=[24, 80, 136, 192], labels=['Low','Medium', 'High'], right = False)\n",
        "\n",
        "data['Age'] = pd.cut(x=data['Age'],bins=[25, 45, 60, 81], labels=['Low','Medium', 'High'], right = False)\n",
        "\n",
        "data['Education'] = pd.cut(x=data['Education'],bins=[10, 12.5, 15, 19], labels=['Low','Medium', 'High'], right = False)"
      ],
      "metadata": {
        "id": "5E_2NMXADf8q"
      },
      "execution_count": null,
      "outputs": []
    },
    {
      "cell_type": "code",
      "source": [
        "data.head()"
      ],
      "metadata": {
        "id": "XQnr1zfPDk11"
      },
      "execution_count": null,
      "outputs": []
    },
    {
      "cell_type": "code",
      "source": [
        "#encoding categorical data\n",
        "from sklearn import preprocessing\n",
        "label_encoder = preprocessing.LabelEncoder()\n",
        "\n",
        "data['Sales'] = label_encoder.fit_transform(data['Sales'])\n",
        "data['CompPrice'] = label_encoder.fit_transform(data['CompPrice'])\n",
        "data['Income'] = label_encoder.fit_transform(data['Income'])\n",
        "data['Advertising'] = label_encoder.fit_transform(data['Advertising'])\n",
        "data['Population'] = label_encoder.fit_transform(data['Population'])\n",
        "data['Price'] = label_encoder.fit_transform(data['Price'])\n",
        "data['ShelveLoc'] = label_encoder.fit_transform(data['ShelveLoc'])\n",
        "data['Age'] = label_encoder.fit_transform(data['Age'])\n",
        "data['Education'] = label_encoder.fit_transform(data['Education'])\n",
        "data['Urban'] = label_encoder.fit_transform(data['Urban'])\n",
        "data['US'] = label_encoder.fit_transform(data['US'])\n",
        "\n",
        "data"
      ],
      "metadata": {
        "id": "PiUYDMnNDocA"
      },
      "execution_count": null,
      "outputs": []
    },
    {
      "cell_type": "code",
      "source": [
        "# Dividing data into independent variables and dependent variable\n",
        "X = data.drop('Sales', axis = 1)\n",
        "y = data['Sales']\n",
        "X"
      ],
      "metadata": {
        "id": "II26Qj_bDsz_"
      },
      "execution_count": null,
      "outputs": []
    },
    {
      "cell_type": "code",
      "source": [
        "y"
      ],
      "metadata": {
        "id": "l50JrbCcD5a3"
      },
      "execution_count": null,
      "outputs": []
    },
    {
      "cell_type": "code",
      "source": [
        "# Splitting data into training and testing data\n",
        "x_train, x_test, y_train, y_test = train_test_split(X, y, test_size= 0.33, random_state= 42)"
      ],
      "metadata": {
        "id": "cKlXhYW2D88Y"
      },
      "execution_count": null,
      "outputs": []
    },
    {
      "cell_type": "markdown",
      "source": [
        "#Building model based on C5.0 Algorithm"
      ],
      "metadata": {
        "id": "lXGZurMKEMe3"
      }
    },
    {
      "cell_type": "code",
      "source": [
        "\n",
        "model_c5 = DecisionTreeClassifier(criterion = 'entropy', max_depth= 3)\n",
        "model_c5.fit(x_train, y_train)\n",
        "# Plotting Decision tree\n",
        "tree.plot_tree(model_c5);"
      ],
      "metadata": {
        "id": "7IO2pd6LECAN"
      },
      "execution_count": null,
      "outputs": []
    },
    {
      "cell_type": "code",
      "source": [
        "fn=['CompPrice', 'Income', 'Advertising', 'Population', 'Price',\n",
        "       'ShelveLoc', 'Age', 'Education', 'Urban', 'US']\n",
        "cn=['Low', 'Medium', 'High']\n",
        "fig, axes = plt.subplots(nrows = 1,ncols = 1,figsize = (5,3), dpi=200)\n",
        "tree.plot_tree(model_c5,\n",
        "               feature_names = fn, \n",
        "               class_names=cn,\n",
        "               filled = True);"
      ],
      "metadata": {
        "id": "bKlP_hFeER30"
      },
      "execution_count": null,
      "outputs": []
    },
    {
      "cell_type": "code",
      "source": [
        "# Predicting Data\n",
        "preds = model_c5.predict(x_test)\n",
        "pd.Series(preds).value_counts()"
      ],
      "metadata": {
        "id": "dBRjpl4LEaqh"
      },
      "execution_count": null,
      "outputs": []
    },
    {
      "cell_type": "code",
      "source": [
        "preds"
      ],
      "metadata": {
        "id": "nRZYjs5PEiZZ"
      },
      "execution_count": null,
      "outputs": []
    },
    {
      "cell_type": "code",
      "source": [
        "# Creating cross tables for checking model\n",
        "pd.crosstab(y_test, preds)"
      ],
      "metadata": {
        "id": "RADp7ovaEoQi"
      },
      "execution_count": null,
      "outputs": []
    },
    {
      "cell_type": "code",
      "source": [
        "# Checking accuracy of model\n",
        "model_c5.score(x_test, y_test)"
      ],
      "metadata": {
        "id": "WlnE2I2YErSY"
      },
      "execution_count": null,
      "outputs": []
    },
    {
      "cell_type": "markdown",
      "source": [
        "#Building model based on CART Algorithm"
      ],
      "metadata": {
        "id": "3fX0O4VhE3E0"
      }
    },
    {
      "cell_type": "code",
      "source": [
        "\n",
        "model_CART = DecisionTreeClassifier(criterion = 'gini', max_depth= 3)\n",
        "model_CART.fit(x_train, y_train)\n",
        "\n",
        "# Plotting Decision tree\n",
        "tree.plot_tree(model_CART);"
      ],
      "metadata": {
        "id": "umbt9JWpEvR8"
      },
      "execution_count": null,
      "outputs": []
    },
    {
      "cell_type": "code",
      "source": [
        "fn=['CompPrice', 'Income', 'Advertising', 'Population', 'Price',\n",
        "       'ShelveLoc', 'Age', 'Education', 'Urban', 'US']\n",
        "cn=['Low', 'Medium', 'High']\n",
        "fig, axes = plt.subplots(nrows = 1,ncols = 1,figsize = (4,3), dpi=200)\n",
        "tree.plot_tree(model_CART,\n",
        "               feature_names = fn, \n",
        "               class_names=cn,\n",
        "               filled = True);"
      ],
      "metadata": {
        "id": "z0p1SIdME5Ff"
      },
      "execution_count": null,
      "outputs": []
    },
    {
      "cell_type": "code",
      "source": [
        "# Predicting Data\n",
        "preds = model_CART.predict(x_test)\n",
        "pd.Series(preds).value_counts()"
      ],
      "metadata": {
        "id": "mHJ8A2N9FAX7"
      },
      "execution_count": null,
      "outputs": []
    },
    {
      "cell_type": "code",
      "source": [
        "preds"
      ],
      "metadata": {
        "id": "NK6cm3IiFNy3"
      },
      "execution_count": null,
      "outputs": []
    },
    {
      "cell_type": "code",
      "source": [
        "# Creating cross tables for checking model\n",
        "pd.crosstab(y_test, preds)"
      ],
      "metadata": {
        "id": "NAgSM2S2FTWD"
      },
      "execution_count": null,
      "outputs": []
    },
    {
      "cell_type": "code",
      "source": [
        "# Checking accuracy of model\n",
        "model_CART.score(x_test, y_test)"
      ],
      "metadata": {
        "id": "qS28dRuyFZDq"
      },
      "execution_count": null,
      "outputs": []
    },
    {
      "cell_type": "code",
      "source": [
        ""
      ],
      "metadata": {
        "id": "v67j_9JcFbfG"
      },
      "execution_count": null,
      "outputs": []
    }
  ]
}